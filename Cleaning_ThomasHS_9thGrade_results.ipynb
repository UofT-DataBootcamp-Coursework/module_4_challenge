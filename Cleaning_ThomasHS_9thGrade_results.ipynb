{
 "cells": [
  {
   "cell_type": "code",
   "execution_count": 1,
   "metadata": {},
   "outputs": [],
   "source": [
    "# Add the Pandas and Numpy dependency\n",
    "import pandas as pd\n",
    "import numpy as np\n",
    "\n",
    "# Files to load \n",
    "student_data_to_load = \"Resources/students_complete.csv\"\n",
    "\n",
    "# Read the student data file and store it in a Pandas DataFrame\n",
    "student_data_df = pd.read_csv(student_data_to_load)"
   ]
  },
  {
   "cell_type": "code",
   "execution_count": 20,
   "metadata": {},
   "outputs": [
    {
     "data": {
      "text/plain": [
       "461"
      ]
     },
     "execution_count": 20,
     "metadata": {},
     "output_type": "execute_result"
    }
   ],
   "source": [
    "# Filter student_df for only 9th Graders at Thomas HS\n",
    "is_THS = student_data_df[\"school_name\"]==\"Thomas High School\"\n",
    "THS_students = student_data_df[is_THS]\n",
    "is_9th = THS_students[\"grade\"]==\"9th\"\n",
    "THS_9th = THS_students[is_9th]\n",
    "# THS_9th\n",
    "\n",
    "# Count number of students in 9th grade at Thomas HS\n",
    "THS_9th[\"Student ID\"].count()"
   ]
  },
  {
   "cell_type": "code",
   "execution_count": 2,
   "metadata": {},
   "outputs": [],
   "source": [
    "# Set new index to school_name\n",
    "THS9_student_data_df=student_data_df.set_index(\"school_name\")\n",
    "\n",
    "# Select rows based on grade = \"9th\"\n",
    "THS9_student_data_df = THS9_student_data_df.loc[THS9_student_data_df['grade']==\"9th\"]"
   ]
  },
  {
   "cell_type": "code",
   "execution_count": 3,
   "metadata": {
    "collapsed": true
   },
   "outputs": [
    {
     "data": {
      "text/html": [
       "<div>\n",
       "<style scoped>\n",
       "    .dataframe tbody tr th:only-of-type {\n",
       "        vertical-align: middle;\n",
       "    }\n",
       "\n",
       "    .dataframe tbody tr th {\n",
       "        vertical-align: top;\n",
       "    }\n",
       "\n",
       "    .dataframe thead th {\n",
       "        text-align: right;\n",
       "    }\n",
       "</style>\n",
       "<table border=\"1\" class=\"dataframe\">\n",
       "  <thead>\n",
       "    <tr style=\"text-align: right;\">\n",
       "      <th></th>\n",
       "      <th>Student ID</th>\n",
       "      <th>student_name</th>\n",
       "      <th>gender</th>\n",
       "      <th>grade</th>\n",
       "      <th>reading_score</th>\n",
       "      <th>math_score</th>\n",
       "    </tr>\n",
       "    <tr>\n",
       "      <th>school_name</th>\n",
       "      <th></th>\n",
       "      <th></th>\n",
       "      <th></th>\n",
       "      <th></th>\n",
       "      <th></th>\n",
       "      <th></th>\n",
       "    </tr>\n",
       "  </thead>\n",
       "  <tbody>\n",
       "    <tr>\n",
       "      <th>Huang High School</th>\n",
       "      <td>0</td>\n",
       "      <td>Paul Bradley</td>\n",
       "      <td>M</td>\n",
       "      <td>9th</td>\n",
       "      <td>66.0</td>\n",
       "      <td>79.0</td>\n",
       "    </tr>\n",
       "    <tr>\n",
       "      <th>Huang High School</th>\n",
       "      <td>4</td>\n",
       "      <td>Bonnie Ray</td>\n",
       "      <td>F</td>\n",
       "      <td>9th</td>\n",
       "      <td>97.0</td>\n",
       "      <td>84.0</td>\n",
       "    </tr>\n",
       "    <tr>\n",
       "      <th>Huang High School</th>\n",
       "      <td>5</td>\n",
       "      <td>Bryan Miranda</td>\n",
       "      <td>M</td>\n",
       "      <td>9th</td>\n",
       "      <td>94.0</td>\n",
       "      <td>94.0</td>\n",
       "    </tr>\n",
       "    <tr>\n",
       "      <th>Huang High School</th>\n",
       "      <td>12</td>\n",
       "      <td>Brittney Walker</td>\n",
       "      <td>F</td>\n",
       "      <td>9th</td>\n",
       "      <td>64.0</td>\n",
       "      <td>79.0</td>\n",
       "    </tr>\n",
       "    <tr>\n",
       "      <th>Huang High School</th>\n",
       "      <td>13</td>\n",
       "      <td>William Long</td>\n",
       "      <td>M</td>\n",
       "      <td>9th</td>\n",
       "      <td>71.0</td>\n",
       "      <td>79.0</td>\n",
       "    </tr>\n",
       "    <tr>\n",
       "      <th>...</th>\n",
       "      <td>...</td>\n",
       "      <td>...</td>\n",
       "      <td>...</td>\n",
       "      <td>...</td>\n",
       "      <td>...</td>\n",
       "      <td>...</td>\n",
       "    </tr>\n",
       "    <tr>\n",
       "      <th>Thomas High School</th>\n",
       "      <td>39152</td>\n",
       "      <td>Lori Moore</td>\n",
       "      <td>F</td>\n",
       "      <td>9th</td>\n",
       "      <td>NaN</td>\n",
       "      <td>NaN</td>\n",
       "    </tr>\n",
       "    <tr>\n",
       "      <th>Thomas High School</th>\n",
       "      <td>39153</td>\n",
       "      <td>William Hubbard</td>\n",
       "      <td>M</td>\n",
       "      <td>9th</td>\n",
       "      <td>NaN</td>\n",
       "      <td>NaN</td>\n",
       "    </tr>\n",
       "    <tr>\n",
       "      <th>Thomas High School</th>\n",
       "      <td>39157</td>\n",
       "      <td>Kristen Gonzalez</td>\n",
       "      <td>F</td>\n",
       "      <td>9th</td>\n",
       "      <td>NaN</td>\n",
       "      <td>NaN</td>\n",
       "    </tr>\n",
       "    <tr>\n",
       "      <th>Thomas High School</th>\n",
       "      <td>39164</td>\n",
       "      <td>Joseph Anthony</td>\n",
       "      <td>M</td>\n",
       "      <td>9th</td>\n",
       "      <td>NaN</td>\n",
       "      <td>NaN</td>\n",
       "    </tr>\n",
       "    <tr>\n",
       "      <th>Thomas High School</th>\n",
       "      <td>39167</td>\n",
       "      <td>Rebecca Tanner</td>\n",
       "      <td>F</td>\n",
       "      <td>9th</td>\n",
       "      <td>NaN</td>\n",
       "      <td>NaN</td>\n",
       "    </tr>\n",
       "  </tbody>\n",
       "</table>\n",
       "<p>11408 rows × 6 columns</p>\n",
       "</div>"
      ],
      "text/plain": [
       "                    Student ID      student_name gender grade  reading_score  \\\n",
       "school_name                                                                    \n",
       "Huang High School            0      Paul Bradley      M   9th           66.0   \n",
       "Huang High School            4        Bonnie Ray      F   9th           97.0   \n",
       "Huang High School            5     Bryan Miranda      M   9th           94.0   \n",
       "Huang High School           12   Brittney Walker      F   9th           64.0   \n",
       "Huang High School           13      William Long      M   9th           71.0   \n",
       "...                        ...               ...    ...   ...            ...   \n",
       "Thomas High School       39152        Lori Moore      F   9th            NaN   \n",
       "Thomas High School       39153   William Hubbard      M   9th            NaN   \n",
       "Thomas High School       39157  Kristen Gonzalez      F   9th            NaN   \n",
       "Thomas High School       39164    Joseph Anthony      M   9th            NaN   \n",
       "Thomas High School       39167    Rebecca Tanner      F   9th            NaN   \n",
       "\n",
       "                    math_score  \n",
       "school_name                     \n",
       "Huang High School         79.0  \n",
       "Huang High School         84.0  \n",
       "Huang High School         94.0  \n",
       "Huang High School         79.0  \n",
       "Huang High School         79.0  \n",
       "...                        ...  \n",
       "Thomas High School         NaN  \n",
       "Thomas High School         NaN  \n",
       "Thomas High School         NaN  \n",
       "Thomas High School         NaN  \n",
       "Thomas High School         NaN  \n",
       "\n",
       "[11408 rows x 6 columns]"
      ]
     },
     "execution_count": 3,
     "metadata": {},
     "output_type": "execute_result"
    }
   ],
   "source": [
    "# Change grades for math and reading to \"NaN\"\n",
    "THS9_student_data_df.loc[['Thomas High School'],['reading_score']]=np.nan\n",
    "THS9_student_data_df.loc[['Thomas High School'],['math_score']]=np.nan\n",
    "\n",
    "THS9_student_data_df"
   ]
  },
  {
   "cell_type": "code",
   "execution_count": 4,
   "metadata": {},
   "outputs": [
    {
     "name": "stdout",
     "output_type": "stream",
     "text": [
      "461\n"
     ]
    }
   ],
   "source": [
    "# confirm the cleaned data -> NaN in math_score = THS_9th\n",
    "count = THS9_student_data_df[\"math_score\"].isna().sum()\n",
    "print(count)"
   ]
  },
  {
   "cell_type": "code",
   "execution_count": 5,
   "metadata": {},
   "outputs": [
    {
     "name": "stdout",
     "output_type": "stream",
     "text": [
      "461\n"
     ]
    }
   ],
   "source": [
    "# confirm the cleaned data -> NaN in reading_score = THS_9th\n",
    "count = THS9_student_data_df[\"reading_score\"].isna().sum()\n",
    "print(count)"
   ]
  }
 ],
 "metadata": {
  "kernelspec": {
   "display_name": "PythonData",
   "language": "python",
   "name": "pythondata"
  },
  "language_info": {
   "codemirror_mode": {
    "name": "ipython",
    "version": 3
   },
   "file_extension": ".py",
   "mimetype": "text/x-python",
   "name": "python",
   "nbconvert_exporter": "python",
   "pygments_lexer": "ipython3",
   "version": "3.7.7"
  }
 },
 "nbformat": 4,
 "nbformat_minor": 4
}
